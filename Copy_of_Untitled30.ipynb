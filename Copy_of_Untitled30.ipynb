{
  "nbformat": 4,
  "nbformat_minor": 0,
  "metadata": {
    "colab": {
      "provenance": [],
      "authorship_tag": "ABX9TyOgLE/6jctFc3DMdMsLBOeA",
      "include_colab_link": true
    },
    "kernelspec": {
      "name": "python3",
      "display_name": "Python 3"
    },
    "language_info": {
      "name": "python"
    }
  },
  "cells": [
    {
      "cell_type": "markdown",
      "metadata": {
        "id": "view-in-github",
        "colab_type": "text"
      },
      "source": [
        "<a href=\"https://colab.research.google.com/github/allammaheshbabu/colabproject/blob/main/Copy_of_Untitled30.ipynb\" target=\"_parent\"><img src=\"https://colab.research.google.com/assets/colab-badge.svg\" alt=\"Open In Colab\"/></a>"
      ]
    },
    {
      "cell_type": "markdown",
      "source": [
        "**women colth review predection with multinominal navie bayes**\n",
        "\n",
        "\n",
        "\n"
      ],
      "metadata": {
        "id": "ESOUinWT8uIr"
      }
    },
    {
      "cell_type": "markdown",
      "source": [
        "Import Library"
      ],
      "metadata": {
        "id": "Oq3U9jne8jih"
      }
    },
    {
      "cell_type": "code",
      "execution_count": null,
      "metadata": {
        "id": "3U4JWUEO2qC_"
      },
      "outputs": [],
      "source": [
        "import pandas as pd\n",
        "from sklearn.feature_extraction.text import CountVectorizer\n",
        "from sklearn.naive_bayes import MultinomialNB\n",
        "from sklearn.model_selection import train_test_split"
      ]
    },
    {
      "cell_type": "markdown",
      "source": [
        "import data"
      ],
      "metadata": {
        "id": "CL87PNK38e-T"
      }
    },
    {
      "cell_type": "code",
      "source": [
        "data = pd.read_csv('clothing_reviews.csv')"
      ],
      "metadata": {
        "id": "e7LgHuP09JJe"
      },
      "execution_count": null,
      "outputs": []
    },
    {
      "cell_type": "markdown",
      "source": [
        "data preprocessing"
      ],
      "metadata": {
        "id": "bWVxfaqw9x1U"
      }
    },
    {
      "cell_type": "code",
      "source": [
        "data = data.dropna(subset=['Review'])\n",
        "data['Review'] = data['Review'].apply(lambda x: x.lower())"
      ],
      "metadata": {
        "id": "zVKeNG8f9vEP"
      },
      "execution_count": null,
      "outputs": []
    },
    {
      "cell_type": "markdown",
      "source": [
        "train test split"
      ],
      "metadata": {
        "id": "VA78eF6F96CN"
      }
    },
    {
      "cell_type": "code",
      "source": [
        "X = data['Review']\n",
        "y = data['Rating']\n",
        "X_train, X_test, y_train, y_test = train_test_split(X, y, test_size=0.2, random_state=42)\n",
        "vectorizer = CountVectorizer()\n",
        "X_train_vectorized = vectorizer.fit_transform(X_train)\n",
        "X_test_vectorized = vectorizer.transform(X_test)\n",
        "classifier = MultinomialNB()\n",
        "classifier.fit(X_train_vectorized, y_train)"
      ],
      "metadata": {
        "id": "18nDjLlD97Al"
      },
      "execution_count": null,
      "outputs": []
    },
    {
      "cell_type": "markdown",
      "source": [
        "prediction"
      ],
      "metadata": {
        "id": "DkXppCEr-Z__"
      }
    },
    {
      "cell_type": "code",
      "source": [
        "y_pred = classifier.predict(X_test_vectorized)"
      ],
      "metadata": {
        "id": "1rdEMHme-bjk"
      },
      "execution_count": null,
      "outputs": []
    },
    {
      "cell_type": "markdown",
      "source": [
        "model evaluation"
      ],
      "metadata": {
        "id": "KDijG9gk-f7w"
      }
    },
    {
      "cell_type": "code",
      "source": [
        "accuracy = (y_pred == y_test).mean()\n",
        "print(\"Accuracy:\", accuracy)"
      ],
      "metadata": {
        "id": "EtapC5BV-hPR"
      },
      "execution_count": null,
      "outputs": []
    }
  ]
}